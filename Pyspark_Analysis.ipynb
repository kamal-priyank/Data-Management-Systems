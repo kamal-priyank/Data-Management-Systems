{
 "cells": [
  {
   "cell_type": "code",
   "execution_count": 21,
   "metadata": {},
   "outputs": [
    {
     "name": "stdout",
     "output_type": "stream",
     "text": [
      "Requirement already satisfied: pyspark in /Users/kamalpriyank/opt/anaconda3/lib/python3.9/site-packages (3.2.1)\n",
      "Requirement already satisfied: py4j==0.10.9.3 in /Users/kamalpriyank/opt/anaconda3/lib/python3.9/site-packages (from pyspark) (0.10.9.3)\n"
     ]
    }
   ],
   "source": [
    "!pip install pyspark\n"
   ]
  },
  {
   "cell_type": "code",
   "execution_count": 22,
   "metadata": {},
   "outputs": [
    {
     "name": "stdout",
     "output_type": "stream",
     "text": [
      "Requirement already satisfied: findspark in /Users/kamalpriyank/opt/anaconda3/lib/python3.9/site-packages (2.0.1)\n"
     ]
    }
   ],
   "source": [
    "!python -m pip install findspark"
   ]
  },
  {
   "cell_type": "markdown",
   "metadata": {},
   "source": [
    "## Install All Necessary Packages\n"
   ]
  },
  {
   "cell_type": "code",
   "execution_count": 23,
   "metadata": {},
   "outputs": [],
   "source": [
    "import numpy as np\n",
    "import pandas as pd\n",
    "import seaborn as sns\n",
    "import matplotlib.pyplot as plt\n",
    "from pyspark import SparkContext, SparkConf\n",
    "from pyspark.sql import SparkSession\n",
    "sc = SparkContext.getOrCreate(SparkConf().setMaster(\"local[*]\"))\n",
    "spark = SparkSession.builder.getOrCreate()\n"
   ]
  },
  {
   "cell_type": "markdown",
   "metadata": {},
   "source": [
    "### create Spark Session using Driver"
   ]
  },
  {
   "cell_type": "code",
   "execution_count": 24,
   "metadata": {},
   "outputs": [],
   "source": [
    "# Open a session running data from PostgreSQL\n",
    "spark_postgre = SparkSession \\\n",
    "    .builder \\\n",
    "    .appName(\"git_postgre\") \\\n",
    "    .config(\"spark.jars\", \"/Users/Kamalpriyank/Downloads/postgresql-42.4.0.jar\") \\\n",
    "    .getOrCreate()\n"
   ]
  },
  {
   "cell_type": "code",
   "execution_count": 25,
   "metadata": {},
   "outputs": [
    {
     "data": {
      "text/html": [
       "\n",
       "            <div>\n",
       "                <p><b>SparkSession - in-memory</b></p>\n",
       "                \n",
       "        <div>\n",
       "            <p><b>SparkContext</b></p>\n",
       "\n",
       "            <p><a href=\"http://pc-79-218.customer.ask4.lan:4040\">Spark UI</a></p>\n",
       "\n",
       "            <dl>\n",
       "              <dt>Version</dt>\n",
       "                <dd><code>v3.2.1</code></dd>\n",
       "              <dt>Master</dt>\n",
       "                <dd><code>local[*]</code></dd>\n",
       "              <dt>AppName</dt>\n",
       "                <dd><code>pyspark-shell</code></dd>\n",
       "            </dl>\n",
       "        </div>\n",
       "        \n",
       "            </div>\n",
       "        "
      ],
      "text/plain": [
       "<pyspark.sql.session.SparkSession at 0x7fb20d8c39d0>"
      ]
     },
     "execution_count": 25,
     "metadata": {},
     "output_type": "execute_result"
    }
   ],
   "source": [
    "spark_postgre\n"
   ]
  },
  {
   "cell_type": "markdown",
   "metadata": {},
   "source": [
    "### Import Required Data From local Host of postgresql using the driver"
   ]
  },
  {
   "cell_type": "code",
   "execution_count": 26,
   "metadata": {},
   "outputs": [
    {
     "name": "stdout",
     "output_type": "stream",
     "text": [
      "root\n",
      " |-- id: integer (nullable = true)\n",
      " |-- project_id: integer (nullable = true)\n",
      " |-- title: string (nullable = true)\n",
      " |-- state: string (nullable = true)\n",
      " |-- body: string (nullable = true)\n",
      " |-- user_id: string (nullable = true)\n",
      " |-- repository: string (nullable = true)\n",
      " |-- created_at: timestamp (nullable = true)\n",
      " |-- updated_at: timestamp (nullable = true)\n",
      " |-- closed_at: timestamp (nullable = true)\n",
      " |-- assignees: string (nullable = true)\n",
      " |-- labels: string (nullable = true)\n",
      " |-- reactions: string (nullable = true)\n",
      " |-- n_comments: short (nullable = true)\n",
      " |-- closed_by: string (nullable = true)\n",
      " |-- comment_id: integer (nullable = true)\n",
      "\n",
      "root\n",
      " |-- id: integer (nullable = true)\n",
      " |-- project_id: integer (nullable = true)\n",
      " |-- hash: string (nullable = true)\n",
      " |-- msg: string (nullable = true)\n",
      " |-- author_name: string (nullable = true)\n",
      " |-- committer_name: string (nullable = true)\n",
      " |-- author_date: timestamp (nullable = true)\n",
      " |-- author_timezone: string (nullable = true)\n",
      " |-- committer_date: timestamp (nullable = true)\n",
      " |-- committer_timezone: string (nullable = true)\n",
      " |-- branches: string (nullable = true)\n",
      " |-- in_main_branch: string (nullable = true)\n",
      " |-- merge: string (nullable = true)\n",
      " |-- parents: string (nullable = true)\n",
      " |-- deletions: integer (nullable = true)\n",
      " |-- insertions: integer (nullable = true)\n",
      " |-- lines: integer (nullable = true)\n",
      " |-- files: short (nullable = true)\n",
      " |-- old_path: string (nullable = true)\n",
      " |-- new_path: string (nullable = true)\n",
      " |-- filename: string (nullable = true)\n",
      " |-- change_type: string (nullable = true)\n",
      " |-- diff: string (nullable = true)\n",
      " |-- diff_parsed: string (nullable = true)\n",
      " |-- deleted_lines: integer (nullable = true)\n",
      " |-- source_code: string (nullable = true)\n",
      " |-- source_code_before: string (nullable = true)\n",
      " |-- nloc: double (nullable = true)\n",
      " |-- complexity: string (nullable = true)\n",
      " |-- token_count: double (nullable = true)\n",
      "\n",
      "root\n",
      " |-- project_id: integer (nullable = true)\n",
      " |-- project_name: string (nullable = true)\n",
      "\n",
      "root\n",
      " |-- user_id: string (nullable = true)\n",
      " |-- user_name: string (nullable = true)\n",
      "\n",
      "root\n",
      " |-- comment_id: integer (nullable = true)\n",
      " |-- comment_user_id: string (nullable = true)\n",
      " |-- comment_user: string (nullable = true)\n",
      " |-- comment_text: string (nullable = true)\n",
      " |-- comment_created_at: timestamp (nullable = true)\n",
      " |-- comment_updated_at: timestamp (nullable = true)\n",
      "\n",
      "root\n",
      " |-- project_id: integer (nullable = true)\n",
      " |-- author_name: string (nullable = true)\n",
      " |-- author_date: timestamp (nullable = true)\n",
      " |-- author_timezone: string (nullable = true)\n",
      " |-- committer_date: timestamp (nullable = true)\n",
      " |-- committer_timezone: string (nullable = true)\n",
      "\n"
     ]
    }
   ],
   "source": [
    "# Read data from PostgreSQL running at localhost\n",
    "params = spark_postgre.read \\\n",
    "    .format(\"jdbc\") \\\n",
    "    .option(\"url\", \"jdbc:postgresql://localhost:5432/gitHubData\") \\\n",
    "    .option(\"user\", \"postgres\") \\\n",
    "    .option(\"password\", \"0793\") \\\n",
    "    .option(\"driver\", \"org.postgresql.Driver\")\n",
    "\n",
    "df_issues = params \\\n",
    "    .option(\"dbtable\", \"issues\") \\\n",
    "    .load()\n",
    "\n",
    "df_commits = params \\\n",
    "    .option(\"dbtable\", \"commits\") \\\n",
    "    .load()\n",
    "\n",
    "df_projects = params \\\n",
    "    .option(\"dbtable\", \"projects\") \\\n",
    "    .load()\n",
    "\n",
    "df_users = params \\\n",
    "    .option(\"dbtable\", \"users\") \\\n",
    "    .load()\n",
    "\n",
    "df_comments = params \\\n",
    "    .option(\"dbtable\", \"comments\") \\\n",
    "    .load()\n",
    "\n",
    "df_timezone = params \\\n",
    "    .option(\"dbtable\", \"timezone\") \\\n",
    "    .load()\n",
    "\n",
    "df_issues.printSchema()\n",
    "df_commits.printSchema()\n",
    "df_projects.printSchema()\n",
    "df_users.printSchema()\n",
    "df_comments.printSchema()\n",
    "df_timezone.printSchema()\n"
   ]
  },
  {
   "cell_type": "markdown",
   "metadata": {},
   "source": [
    "### Removing any rows with Null Values"
   ]
  },
  {
   "cell_type": "code",
   "execution_count": 27,
   "metadata": {},
   "outputs": [],
   "source": [
    "df_issues = df_issues.na.drop('any')\n",
    "\n",
    "df_comments = df_comments.na.drop('any')\n",
    "\n",
    "df_projects = df_projects.na.drop('any')\n",
    "\n",
    "df_timezone = df_timezone.na.drop('any')\n",
    "\n",
    "df_users = df_users.na.drop('any')\n"
   ]
  },
  {
   "cell_type": "code",
   "execution_count": 28,
   "metadata": {},
   "outputs": [
    {
     "name": "stdout",
     "output_type": "stream",
     "text": [
      "root\n",
      " |-- id: integer (nullable = true)\n",
      " |-- project_id: integer (nullable = true)\n",
      " |-- hash: string (nullable = true)\n",
      " |-- msg: string (nullable = true)\n",
      " |-- author_name: string (nullable = true)\n",
      " |-- committer_name: string (nullable = true)\n",
      " |-- author_date: timestamp (nullable = true)\n",
      " |-- author_timezone: string (nullable = true)\n",
      " |-- committer_date: timestamp (nullable = true)\n",
      " |-- committer_timezone: string (nullable = true)\n",
      " |-- branches: string (nullable = true)\n",
      " |-- in_main_branch: string (nullable = true)\n",
      " |-- merge: string (nullable = true)\n",
      " |-- parents: string (nullable = true)\n",
      " |-- deletions: integer (nullable = true)\n",
      " |-- insertions: integer (nullable = true)\n",
      " |-- lines: integer (nullable = true)\n",
      " |-- files: short (nullable = true)\n",
      " |-- old_path: string (nullable = true)\n",
      " |-- new_path: string (nullable = true)\n",
      " |-- filename: string (nullable = true)\n",
      " |-- change_type: string (nullable = true)\n",
      " |-- diff: string (nullable = true)\n",
      " |-- diff_parsed: string (nullable = true)\n",
      " |-- deleted_lines: integer (nullable = true)\n",
      " |-- source_code: string (nullable = true)\n",
      " |-- source_code_before: string (nullable = true)\n",
      " |-- nloc: double (nullable = true)\n",
      " |-- complexity: string (nullable = true)\n",
      " |-- token_count: double (nullable = true)\n",
      "\n"
     ]
    }
   ],
   "source": [
    "df_commits.printSchema()"
   ]
  },
  {
   "cell_type": "code",
   "execution_count": 29,
   "metadata": {},
   "outputs": [],
   "source": [
    "df_commits = df_commits.na.drop(subset=['deletions','insertions','lines','token_count','deleted_lines','nloc','files'])"
   ]
  },
  {
   "cell_type": "code",
   "execution_count": 30,
   "metadata": {},
   "outputs": [
    {
     "name": "stderr",
     "output_type": "stream",
     "text": [
      "[Stage 14:>                                                         (0 + 1) / 1]\r"
     ]
    },
    {
     "name": "stdout",
     "output_type": "stream",
     "text": [
      "+-------+------------------+\n",
      "|summary|        n_comments|\n",
      "+-------+------------------+\n",
      "|  count|             32329|\n",
      "|   mean|11.603885056760184|\n",
      "| stddev|11.712540197282323|\n",
      "|    min|                 1|\n",
      "|    max|                85|\n",
      "+-------+------------------+\n",
      "\n"
     ]
    },
    {
     "name": "stderr",
     "output_type": "stream",
     "text": [
      "                                                                                \r"
     ]
    }
   ],
   "source": [
    "df_issues.describe('n_comments').show(10)"
   ]
  },
  {
   "cell_type": "code",
   "execution_count": 31,
   "metadata": {},
   "outputs": [
    {
     "name": "stdout",
     "output_type": "stream",
     "text": [
      "+----------+------------+\n",
      "|project_id|project_name|\n",
      "+----------+------------+\n",
      "|         1|     pytorch|\n",
      "|         2|  tensorflow|\n",
      "+----------+------------+\n",
      "\n"
     ]
    }
   ],
   "source": [
    "df_projects.show()"
   ]
  },
  {
   "cell_type": "code",
   "execution_count": 32,
   "metadata": {},
   "outputs": [
    {
     "name": "stderr",
     "output_type": "stream",
     "text": [
      "[Stage 18:>                                                         (0 + 1) / 1]\r"
     ]
    },
    {
     "name": "stdout",
     "output_type": "stream",
     "text": [
      "+----------+------------------+\n",
      "|project_id|   avg(n_comments)|\n",
      "+----------+------------------+\n",
      "|         1| 24.70596026490066|\n",
      "|         2|10.961939063564683|\n",
      "+----------+------------------+\n",
      "\n"
     ]
    },
    {
     "name": "stderr",
     "output_type": "stream",
     "text": [
      "                                                                                \r"
     ]
    }
   ],
   "source": [
    "df_issues.groupby('project_id').agg({'n_comments': 'mean'}).show()"
   ]
  },
  {
   "cell_type": "code",
   "execution_count": 33,
   "metadata": {},
   "outputs": [
    {
     "name": "stdout",
     "output_type": "stream",
     "text": [
      "+-------+-----------------+------------------+------------------+------------------+------------------+------------------+------------------+\n",
      "|summary|        deletions|        insertions|             lines|       token_count|     deleted_lines|              nloc|             files|\n",
      "+-------+-----------------+------------------+------------------+------------------+------------------+------------------+------------------+\n",
      "|  count|            27768|             27768|             27768|             27768|             27768|             27768|             27768|\n",
      "|   mean|477.3608110054739|1084.0144050705849|1561.3752160760587|10790.134903486027|18.121902909824257|1525.1166450590608|28.579552002304812|\n",
      "| stddev| 2760.85298914042| 5575.704881111084| 7303.194255138591| 28923.32966774252|506.96857997281234| 4342.399379140707| 76.53580610928329|\n",
      "|    min|                0|                 0|                 1|               0.0|                 0|               0.0|                 1|\n",
      "|    max|            33677|             49273|             67354|          182035.0|             33677|           24597.0|               487|\n",
      "+-------+-----------------+------------------+------------------+------------------+------------------+------------------+------------------+\n",
      "\n"
     ]
    }
   ],
   "source": [
    "df_commits.describe(['deletions','insertions','lines','token_count','deleted_lines','nloc','files']).show()"
   ]
  },
  {
   "cell_type": "code",
   "execution_count": 34,
   "metadata": {},
   "outputs": [],
   "source": [
    "from pyspark.ml.linalg import Vectors\n",
    "from pyspark.ml.stat import ChiSquareTest,Summarizer\n",
    "from pyspark.sql import Row"
   ]
  },
  {
   "cell_type": "code",
   "execution_count": 35,
   "metadata": {},
   "outputs": [
    {
     "data": {
      "image/png": "[encoded data removed]",
      "text/plain": [
       "<Figure size 864x576 with 4 Axes>"
      ]
     },
     "metadata": {
      "needs_background": "light"
     },
     "output_type": "display_data"
    }
   ],
   "source": [
    "hist = df_commits.select(['deletions','insertions', \"deleted_lines\", \"nloc\"\n",
    "                  ]) \\\n",
    "         .sample(False, 0.5, 123) \\\n",
    "         .toPandas() \\\n",
    "         .hist(bins=20,figsize=(12, 8))"
   ]
  },
  {
   "cell_type": "code",
   "execution_count": 91,
   "metadata": {},
   "outputs": [],
   "source": [
    "df_commits_new = df_commits['deletions','insertions','lines','token_count','deleted_lines','nloc','files','change_type',\"project_id\"]"
   ]
  },
  {
   "cell_type": "code",
   "execution_count": 92,
   "metadata": {},
   "outputs": [
    {
     "data": {
      "text/plain": [
       "DataFrame[summary: string, deletions: string, insertions: string, lines: string, token_count: string, deleted_lines: string, nloc: string, files: string, change_type: string, project_id: string]"
      ]
     },
     "execution_count": 92,
     "metadata": {},
     "output_type": "execute_result"
    }
   ],
   "source": [
    "df_commits_new.describe()"
   ]
  },
  {
   "cell_type": "markdown",
   "metadata": {},
   "source": [
    "### String indexing"
   ]
  },
  {
   "cell_type": "code",
   "execution_count": 93,
   "metadata": {},
   "outputs": [
    {
     "name": "stdout",
     "output_type": "stream",
     "text": [
      "+----------+--------------+-----------+---------------+\n",
      "|project_id|project_id_idx|change_type|change_type_idx|\n",
      "+----------+--------------+-----------+---------------+\n",
      "|         2|           0.0|     MODIFY|            0.0|\n",
      "|         2|           0.0|     MODIFY|            0.0|\n",
      "|         2|           0.0|     MODIFY|            0.0|\n",
      "|         2|           0.0|     MODIFY|            0.0|\n",
      "|         2|           0.0|     MODIFY|            0.0|\n",
      "|         2|           0.0|     MODIFY|            0.0|\n",
      "|         2|           0.0|     MODIFY|            0.0|\n",
      "|         2|           0.0|     MODIFY|            0.0|\n",
      "|         2|           0.0|     MODIFY|            0.0|\n",
      "|         2|           0.0|     MODIFY|            0.0|\n",
      "|         2|           0.0|     MODIFY|            0.0|\n",
      "|         2|           0.0|     MODIFY|            0.0|\n",
      "|         2|           0.0|     MODIFY|            0.0|\n",
      "|         2|           0.0|     MODIFY|            0.0|\n",
      "|         2|           0.0|     MODIFY|            0.0|\n",
      "|         2|           0.0|     MODIFY|            0.0|\n",
      "|         2|           0.0|     MODIFY|            0.0|\n",
      "|         2|           0.0|     MODIFY|            0.0|\n",
      "|         2|           0.0|     MODIFY|            0.0|\n",
      "|         2|           0.0|     MODIFY|            0.0|\n",
      "+----------+--------------+-----------+---------------+\n",
      "only showing top 20 rows\n",
      "\n"
     ]
    }
   ],
   "source": [
    "# Applying some transformations: String indexer\n",
    "from pyspark.ml.feature import StringIndexer\n",
    "\n",
    "# Indexing 'clean_test'\n",
    "idx_0 = StringIndexer().setInputCol(\"change_type\").setOutputCol(\"change_type_idx\")\n",
    "\n",
    "# Indexing 'binary'\n",
    "idx_1 = StringIndexer() \\\n",
    "        .setInputCol(\"project_id\") \\\n",
    "        .setOutputCol(\"project_id_idx\")\n",
    "\n",
    "# Applying to df\n",
    "df = idx_0.fit(df_commits_new).transform(df_commits_new)\n",
    "df = idx_1.fit(df).transform(df)\n",
    "\n",
    "# Inspect result\n",
    "df.select(['project_id', 'project_id_idx','change_type', 'change_type_idx']).show()"
   ]
  },
  {
   "cell_type": "markdown",
   "metadata": {},
   "source": [
    "### VectorAssembler for Feature Vectors"
   ]
  },
  {
   "cell_type": "code",
   "execution_count": 94,
   "metadata": {},
   "outputs": [
    {
     "name": "stdout",
     "output_type": "stream",
     "text": [
      "+--------------------+--------------------+\n",
      "|          features_0|          features_1|\n",
      "+--------------------+--------------------+\n",
      "|[2.0,6.0,2.0,2479...|[2.0,2479.0,8.0,1...|\n",
      "|[13.0,5.0,13.0,47...|[13.0,47.0,18.0,1...|\n",
      "|[7.0,28.0,0.0,84....|[0.0,84.0,35.0,4....|\n",
      "|[7.0,28.0,7.0,18....|[7.0,18.0,35.0,4....|\n",
      "|[7.0,28.0,0.0,349...|[0.0,349.0,35.0,4...|\n",
      "|(5,[1,3],[14.0,95...|[0.0,950.0,14.0,1...|\n",
      "|(5,[1,3],[8.0,124...|[0.0,1242.0,8.0,1...|\n",
      "|(5,[1,3],[5.0,153...|[0.0,1538.0,5.0,1...|\n",
      "|[24.0,24.0,24.0,2...|[24.0,24041.0,48....|\n",
      "|[204.0,438.0,179....|[179.0,2191.0,642...|\n",
      "|[204.0,438.0,21.0...|[21.0,667.0,642.0...|\n",
      "|[204.0,438.0,0.0,...|[0.0,4904.0,642.0...|\n",
      "|[204.0,438.0,0.0,...|[0.0,278.0,642.0,...|\n",
      "|[204.0,438.0,0.0,...|[0.0,6917.0,642.0...|\n",
      "|[204.0,438.0,0.0,...|[0.0,890.0,642.0,...|\n",
      "|[204.0,438.0,4.0,...|[4.0,1081.0,642.0...|\n",
      "|[19.0,251.0,19.0,...|[19.0,522.0,270.0...|\n",
      "|[67.0,95.0,25.0,1...|[25.0,1752.0,162....|\n",
      "|[67.0,95.0,42.0,1...|[42.0,1247.0,162....|\n",
      "|[1.0,1.0,1.0,46.0...|[1.0,46.0,2.0,1.0...|\n",
      "+--------------------+--------------------+\n",
      "only showing top 20 rows\n",
      "\n"
     ]
    }
   ],
   "source": [
    "from pyspark.ml.feature import VectorAssembler\n",
    "\n",
    "# Assembling a Vector for Logistic Regression\n",
    "v_0 = VectorAssembler() \\\n",
    "    .setInputCols([\"deletions\", \"insertions\", \"deleted_lines\", \"nloc\",\"change_type_idx\"]) \\\n",
    "    .setOutputCol('features_0')\n",
    "\n",
    "# Assembling a Vector for Linear Regression\n",
    "v_1 = VectorAssembler() \\\n",
    "    .setInputCols([\"deleted_lines\",\"nloc\", \"lines\", \"files\",\"project_id_idx\"]) \\\n",
    "    .setOutputCol('features_1')\n",
    "\n",
    "# Applying\n",
    "df = v_0.transform(df)\n",
    "df = v_1.transform(df)\n",
    "\n",
    "# show\n",
    "df.select(['features_0', 'features_1']).show()\n"
   ]
  },
  {
   "cell_type": "markdown",
   "metadata": {},
   "source": [
    "### Train and Test Split"
   ]
  },
  {
   "cell_type": "code",
   "execution_count": 95,
   "metadata": {},
   "outputs": [],
   "source": [
    "# splitting training and test\n",
    "train, test = df.randomSplit([0.7, 0.3])\n"
   ]
  },
  {
   "cell_type": "markdown",
   "metadata": {},
   "source": [
    "### Linear Regression"
   ]
  },
  {
   "cell_type": "code",
   "execution_count": 96,
   "metadata": {},
   "outputs": [
    {
     "name": "stdout",
     "output_type": "stream",
     "text": [
      "1. \u001b[1maggregationDepth\u001b[0m :  suggested depth for treeAggregate (>= 2). (default: 2)\n",
      "    \n",
      "2. \u001b[1melasticNetParam\u001b[0m :  the ElasticNet mixing parameter, in range [0, 1]. For alpha = 0, the penalty is an L2 penalty. For alpha = 1, it is an L1 penalty. (default: 0.0)\n",
      "    \n",
      "3. \u001b[1mepsilon\u001b[0m :  The shape parameter to control the amount of robustness. Must be > 1.0. Only valid when loss is huber (default: 1.35)\n",
      "    \n",
      "4. \u001b[1mfeaturesCol\u001b[0m :  features column name. (default: features, current: features_1)\n",
      "    \n",
      "5. \u001b[1mfitIntercept\u001b[0m :  whether to fit an intercept term. (default: True)\n",
      "    \n",
      "6. \u001b[1mlabelCol\u001b[0m :  label column name. (default: label, current: change_type_idx)\n",
      "    \n",
      "7. \u001b[1mloss\u001b[0m :  The loss function to be optimized. Supported options: squaredError, huber. (default: squaredError)\n",
      "    \n",
      "8. \u001b[1mmaxBlockSizeInMB\u001b[0m :  maximum memory in MB for stacking input data into blocks. Data is stacked within partitions. If more than remaining data size in a partition then it is adjusted to the data size. Default 0.0 represents choosing optimal value, depends on specific algorithm. Must be >= 0. (default: 0.0)\n",
      "    \n",
      "9. \u001b[1mmaxIter\u001b[0m :  max number of iterations (>= 0). (default: 100)\n",
      "    \n",
      "10. \u001b[1mpredictionCol\u001b[0m :  prediction column name. (default: prediction)\n",
      "    \n",
      "11. \u001b[1mregParam\u001b[0m :  regularization parameter (>= 0). (default: 0.0)\n",
      "    \n",
      "12. \u001b[1msolver\u001b[0m :  The solver algorithm for optimization. Supported options: auto, normal, l-bfgs. (default: auto)\n",
      "    \n",
      "13. \u001b[1mstandardization\u001b[0m :  whether to standardize the training features before fitting the model. (default: True)\n",
      "    \n",
      "14. \u001b[1mtol\u001b[0m :  the convergence tolerance for iterative algorithms (>= 0). (default: 1e-06)\n",
      "    \n",
      "15. \u001b[1mweightCol\u001b[0m :  weight column name. If this is not set or empty, we treat all instance weights as 1.0. (undefined)\n",
      "    \n"
     ]
    },
    {
     "name": "stderr",
     "output_type": "stream",
     "text": [
      "22/07/22 13:12:43 WARN Instrumentation: [529acdaf] regParam is zero, which might cause numerical instability and overfitting.\n"
     ]
    }
   ],
   "source": [
    "from pyspark.ml.regression import LinearRegression\n",
    "\n",
    "# instance of Linear Regression\n",
    "lr_1 = LinearRegression(labelCol=\"change_type_idx\",featuresCol=\"features_1\")\n",
    "\n",
    "# let's inspect parameters\n",
    "a = lr_1.explainParams().split('\\n')\n",
    "x = 1\n",
    "for i in a:\n",
    "    b = i.split(':',1)\n",
    "    b_0,b_1 = '\\033[1m' + b[0] + '\\033[0m', b[1]\n",
    "    print(\"\"\"{}. {} : {}\n",
    "    \"\"\".format(x, b_0,b_1), flush=True)\n",
    "    x=x+1\n",
    "\n",
    "# fit\n",
    "fitLr_1 = lr_1.fit(train)\n"
   ]
  },
  {
   "cell_type": "markdown",
   "metadata": {},
   "source": [
    "### Summary Stats of Linear Regression"
   ]
  },
  {
   "cell_type": "code",
   "execution_count": 97,
   "metadata": {},
   "outputs": [
    {
     "name": "stdout",
     "output_type": "stream",
     "text": [
      "\n",
      "- R^2 adj: 0.09102342372995798\n",
      "- RMSE : 0.2712252285855949\n",
      "- Intercept: 0.10006945469553606\n",
      "- Coefficients: [-3.8944240455652424e-05,-5.641943639910932e-06,2.0044496058248355e-05,-0.001216300942977446,-0.05898840377626819]\n",
      "- p-values: [0.0, 0.0, 0.0, 0.0, 0.0, 0.0]\n",
      "\n"
     ]
    }
   ],
   "source": [
    "# summary stats\n",
    "s_1 = fitLr_1.summary\n",
    "print(\"\"\"\n",
    "- R^2 adj: {}\n",
    "- RMSE : {}\n",
    "- Intercept: {}\n",
    "- Coefficients: {}\n",
    "- p-values: {}\n",
    "\"\"\".format(s_1.r2adj, s_1.rootMeanSquaredError, fitLr_1.intercept, fitLr_1.coefficients, s_1.pValues),\n",
    "      flush=True)"
   ]
  },
  {
   "cell_type": "markdown",
   "metadata": {},
   "source": [
    "### Logistic Regression"
   ]
  },
  {
   "cell_type": "code",
   "execution_count": 98,
   "metadata": {},
   "outputs": [
    {
     "name": "stdout",
     "output_type": "stream",
     "text": [
      "1. \u001b[1maggregationDepth\u001b[0m :  suggested depth for treeAggregate (>= 2). (default: 2)\n",
      "    \n",
      "2. \u001b[1melasticNetParam\u001b[0m :  the ElasticNet mixing parameter, in range [0, 1]. For alpha = 0, the penalty is an L2 penalty. For alpha = 1, it is an L1 penalty. (default: 0.0)\n",
      "    \n",
      "3. \u001b[1mfamily\u001b[0m :  The name of family which is a description of the label distribution to be used in the model. Supported options: auto, binomial, multinomial (default: auto)\n",
      "    \n",
      "4. \u001b[1mfeaturesCol\u001b[0m :  features column name. (default: features, current: features_0)\n",
      "    \n",
      "5. \u001b[1mfitIntercept\u001b[0m :  whether to fit an intercept term. (default: True)\n",
      "    \n",
      "6. \u001b[1mlabelCol\u001b[0m :  label column name. (default: label, current: project_id_idx)\n",
      "    \n",
      "7. \u001b[1mlowerBoundsOnCoefficients\u001b[0m :  The lower bounds on coefficients if fitting under bound constrained optimization. The bound matrix must be compatible with the shape (1, number of features) for binomial regression, or (number of classes, number of features) for multinomial regression. (undefined)\n",
      "    \n",
      "8. \u001b[1mlowerBoundsOnIntercepts\u001b[0m :  The lower bounds on intercepts if fitting under bound constrained optimization. The bounds vector size must beequal with 1 for binomial regression, or the number oflasses for multinomial regression. (undefined)\n",
      "    \n",
      "9. \u001b[1mmaxBlockSizeInMB\u001b[0m :  maximum memory in MB for stacking input data into blocks. Data is stacked within partitions. If more than remaining data size in a partition then it is adjusted to the data size. Default 0.0 represents choosing optimal value, depends on specific algorithm. Must be >= 0. (default: 0.0)\n",
      "    \n",
      "10. \u001b[1mmaxIter\u001b[0m :  max number of iterations (>= 0). (default: 100)\n",
      "    \n",
      "11. \u001b[1mpredictionCol\u001b[0m :  prediction column name. (default: prediction)\n",
      "    \n",
      "12. \u001b[1mprobabilityCol\u001b[0m :  Column name for predicted class conditional probabilities. Note: Not all models output well-calibrated probability estimates! These probabilities should be treated as confidences, not precise probabilities. (default: probability)\n",
      "    \n",
      "13. \u001b[1mrawPredictionCol\u001b[0m :  raw prediction (a.k.a. confidence) column name. (default: rawPrediction)\n",
      "    \n",
      "14. \u001b[1mregParam\u001b[0m :  regularization parameter (>= 0). (default: 0.0)\n",
      "    \n",
      "15. \u001b[1mstandardization\u001b[0m :  whether to standardize the training features before fitting the model. (default: True)\n",
      "    \n",
      "16. \u001b[1mthreshold\u001b[0m :  Threshold in binary classification prediction, in range [0, 1]. If threshold and thresholds are both set, they must match.e.g. if threshold is p, then thresholds must be equal to [1-p, p]. (default: 0.5)\n",
      "    \n",
      "17. \u001b[1mthresholds\u001b[0m :  Thresholds in multi-class classification to adjust the probability of predicting each class. Array must have length equal to the number of classes, with values > 0, excepting that at most one value may be 0. The class with largest value p/t is predicted, where p is the original probability of that class and t is the class's threshold. (undefined)\n",
      "    \n",
      "18. \u001b[1mtol\u001b[0m :  the convergence tolerance for iterative algorithms (>= 0). (default: 1e-06)\n",
      "    \n",
      "19. \u001b[1mupperBoundsOnCoefficients\u001b[0m :  The upper bounds on coefficients if fitting under bound constrained optimization. The bound matrix must be compatible with the shape (1, number of features) for binomial regression, or (number of classes, number of features) for multinomial regression. (undefined)\n",
      "    \n",
      "20. \u001b[1mupperBoundsOnIntercepts\u001b[0m :  The upper bounds on intercepts if fitting under bound constrained optimization. The bound vector size must be equal with 1 for binomial regression, or the number of classes for multinomial regression. (undefined)\n",
      "    \n",
      "21. \u001b[1mweightCol\u001b[0m :  weight column name. If this is not set or empty, we treat all instance weights as 1.0. (undefined)\n",
      "    \n"
     ]
    }
   ],
   "source": [
    "from pyspark.ml.classification import LogisticRegression\n",
    "\n",
    "# instance of Logistic Regression\n",
    "lr_0 = LogisticRegression(labelCol=\"project_id_idx\",featuresCol=\"features_0\")\n",
    "\n",
    "# let's inspect the parameters\n",
    "a = lr_0.explainParams().split('\\n')\n",
    "x = 1\n",
    "for i in a:\n",
    "    b = i.split(':',1)\n",
    "    b_0,b_1 = '\\033[1m' + b[0] + '\\033[0m', b[1]\n",
    "    print(\"\"\"{}. {} : {}\n",
    "    \"\"\".format(x, b_0,b_1), flush=True)\n",
    "    x=x+1"
   ]
  },
  {
   "cell_type": "code",
   "execution_count": 99,
   "metadata": {},
   "outputs": [
    {
     "name": "stdout",
     "output_type": "stream",
     "text": [
      " \n",
      "\n",
      "Coefficients:\n",
      "============\n",
      "[0.00023632417130849706,-8.001220584968074e-05,-0.00020402910387892268,-2.6344305662379837e-05,-0.25988320603582]\n",
      "\n",
      "\n",
      "Intercept:\n",
      "=========\n",
      "-1.0233974362020488\n",
      "\n",
      "\n",
      "+--------------+----------+\n",
      "|project_id_idx|prediction|\n",
      "+--------------+----------+\n",
      "|           1.0|       0.0|\n",
      "|           1.0|       0.0|\n",
      "|           0.0|       0.0|\n",
      "|           0.0|       0.0|\n",
      "|           1.0|       0.0|\n",
      "|           0.0|       0.0|\n",
      "|           0.0|       0.0|\n",
      "|           1.0|       0.0|\n",
      "|           0.0|       0.0|\n",
      "|           0.0|       0.0|\n",
      "|           0.0|       0.0|\n",
      "|           0.0|       0.0|\n",
      "|           0.0|       0.0|\n",
      "|           1.0|       0.0|\n",
      "|           1.0|       0.0|\n",
      "|           0.0|       0.0|\n",
      "|           0.0|       0.0|\n",
      "|           1.0|       0.0|\n",
      "|           0.0|       0.0|\n",
      "|           0.0|       0.0|\n",
      "+--------------+----------+\n",
      "only showing top 20 rows\n",
      "\n"
     ]
    }
   ],
   "source": [
    "# let's fit data\n",
    "fitLr_0 = lr_0.fit(train)\n",
    "\n",
    "# Print the coefficients and intercept\n",
    "print(\"\"\" \n",
    "\n",
    "Coefficients:\n",
    "============\n",
    "{}\n",
    "\n",
    "\n",
    "Intercept:\n",
    "=========\n",
    "{}\n",
    "\n",
    "\"\"\".format(fitLr_0.coefficients, fitLr_0.intercept), flush=True)\n",
    "\n",
    "# comparing binary and prediction\n",
    "fitLr_0.transform(train).select(\"project_id_idx\", \"prediction\").show()\n"
   ]
  },
  {
   "cell_type": "markdown",
   "metadata": {},
   "source": [
    "### Summary Stats of Logistic Regression"
   ]
  },
  {
   "cell_type": "code",
   "execution_count": 100,
   "metadata": {},
   "outputs": [
    {
     "name": "stderr",
     "output_type": "stream",
     "text": [
      "                                                                                \r"
     ]
    },
    {
     "name": "stdout",
     "output_type": "stream",
     "text": [
      "\n",
      "- Accuracy: 0.7513407590759076\n",
      "- Area Under ROC : 0.4692392268598852\n",
      "- False Positive Rate by Label: [0.939695550351288, 0.0004906083543594057]\n",
      "- Precision by Label: [0.7475885929964353, 0.9778481012658228]\n",
      "- Tot. Iterations: 18\n",
      "- Objective History: \n",
      "[0.5774377645672514, 0.5713321011497852, 0.5619011261240067, 0.5572321606480476, 0.5569075893634546, 0.556683250314064, 0.5566491585773592, 0.5566044919718932, 0.5565513199310922, 0.55654445083067, 0.5565374636963092, 0.5565352681901048, 0.5565341231691999, 0.5565322805694439, 0.5565321353839547, 0.5565319479403639, 0.5565319443024901, 0.5565319441663787, 0.5565319441631909]\n",
      "\n"
     ]
    }
   ],
   "source": [
    "# get some more info\n",
    "s_0 = fitLr_0.summary\n",
    "\n",
    "# Obtain the objective per iteration\n",
    "objectiveHistory = s_0.objectiveHistory\n",
    "\n",
    "print(\"\"\"\n",
    "- Accuracy: {}\n",
    "- Area Under ROC : {}\n",
    "- False Positive Rate by Label: {}\n",
    "- Precision by Label: {}\n",
    "- Tot. Iterations: {}\n",
    "- Objective History: \n",
    "{}\n",
    "\"\"\".format(s_0.accuracy, s_0.areaUnderROC,\n",
    "           s_0.falsePositiveRateByLabel, s_0.precisionByLabel,\n",
    "           s_0.totalIterations, [obj for obj in objectiveHistory]),\n",
    "      flush=True)"
   ]
  },
  {
   "cell_type": "markdown",
   "metadata": {},
   "source": [
    "### Correlation Heatmap"
   ]
  },
  {
   "cell_type": "code",
   "execution_count": 128,
   "metadata": {},
   "outputs": [
    {
     "name": "stderr",
     "output_type": "stream",
     "text": [
      "/Users/kamalpriyank/opt/anaconda3/lib/python3.9/site-packages/pyspark/sql/context.py:125: FutureWarning: Deprecated in 3.0.0. Use SparkSession.builder.getOrCreate() instead.\n",
      "  warnings.warn(\n"
     ]
    }
   ],
   "source": [
    "from pyspark.ml.stat import Correlation\n",
    "from pyspark.ml.feature import VectorAssembler\n",
    " \n",
    "df_corr = df['deletions', 'insertions', 'lines', 'token_count', 'deleted_lines', 'nloc', 'files',\"project_id_idx\",\"change_type_idx\"]\n",
    "# convert to vector column first\n",
    "vector_col = \"corr_features\"\n",
    "assembler = VectorAssembler(inputCols=df_corr.columns, outputCol=vector_col)\n",
    "df_vector = assembler.transform(df).select(vector_col)\n",
    "\n",
    "# get correlation matrix\n",
    "matrix = Correlation.corr(df_vector, vector_col)\n"
   ]
  },
  {
   "cell_type": "code",
   "execution_count": 129,
   "metadata": {},
   "outputs": [],
   "source": [
    "cor_np = matrix.collect()[0][matrix.columns[0]].toArray()\n",
    "cor_np"
   ]
  },
  {
   "cell_type": "code",
   "execution_count": 136,
   "metadata": {},
   "outputs": [
    {
     "data": {
      "image/png": "[encoded data removed]",
      "text/plain": [
       "<Figure size 432x288 with 2 Axes>"
      ]
     },
     "metadata": {
      "needs_background": "light"
     },
     "output_type": "display_data"
    }
   ],
   "source": [
    "dataplot = sns.heatmap(cor_np, cmap=\"YlGnBu\", annot=True)\n",
    "  \n",
    "plt.show()"
   ]
  },
  {
   "cell_type": "code",
   "execution_count": null,
   "metadata": {},
   "outputs": [],
   "source": []
  }
 ],
 "metadata": {
  "kernelspec": {
   "display_name": "Python 3.9.7 ('base')",
   "language": "python",
   "name": "python3"
  },
  "language_info": {
   "codemirror_mode": {
    "name": "ipython",
    "version": 3
   },
   "file_extension": ".py",
   "mimetype": "text/x-python",
   "name": "python",
   "nbconvert_exporter": "python",
   "pygments_lexer": "ipython3",
   "version": "3.9.7"
  },
  "orig_nbformat": 4,
  "vscode": {
   "interpreter": {
    "hash": "57237c104e9abf2196ac2ea6524203ee4f8f0ba43cdc641cca19110532963c28"
   }
  }
 },
 "nbformat": 4,
 "nbformat_minor": 2
}
                                                                                                                                                                                                                                                                                                                                                                                                                                                                                                                                                                                                                                                                                                                                                                                                                                                                                                                                                                                                                                                                                                                                                                                                                                                                                                                                                                                                                                                                                                                                                                                                               